{
 "cells": [
  {
   "cell_type": "code",
   "execution_count": 14,
   "id": "a57d3db3",
   "metadata": {},
   "outputs": [
    {
     "name": "stdout",
     "output_type": "stream",
     "text": [
      "downsample.py:19: DeprecationWarning: the imp module is deprecated in favour of importlib; see the module's documentation for alternative uses\n",
      "  import imp\n",
      "Input path is /panfs/dong/3D_stitched_LS/20220725_SW220510_02_LS/SW220510_02_LS_6x_1000z.ims\n",
      "Output filename is SW220510_02_LS_6x_1000z_ch_0_pow_[0.125]_down.npz\n",
      "Resolution is [1. 1. 1.]\n",
      "Desired resolution is 50.0\n",
      "Dataset string is DataSet/ResolutionLevel 0/TimePoint 0/Channel 0/Data\n",
      "tmp output dir is /nafs/dtward/dong/donglab_resample_lightsheet_good_2022_09_06_tmp\n",
      "Finished loading slice 0 of 8448, time 0.1772003173828125 s\n",
      "Finished loading slice 1 of 8448, time 0.12093281745910645 s\n",
      "Finished loading slice 2 of 8448, time 0.10998654365539551 s\n",
      "Finished loading slice 3 of 8448, time 0.12022829055786133 s\n",
      "Finished loading slice 4 of 8448, time 0.10925960540771484 s\n",
      "Finished loading slice 5 of 8448, time 0.10950112342834473 s\n",
      "Finished loading slice 6 of 8448, time 0.11006593704223633 s\n",
      "Finished loading slice 7 of 8448, time 0.10898208618164062 s\n",
      "Finished loading slice 8 of 8448, time 0.10929298400878906 s\n",
      "Finished loading slice 9 of 8448, time 0.11834836006164551 s\n",
      "Finished loading slice 10 of 8448, time 0.11961817741394043 s\n",
      "Finished loading slice 11 of 8448, time 0.11012434959411621 s\n",
      "^C\n",
      "Traceback (most recent call last):\n",
      "  File \"downsample.py\", line 232, in <module>\n",
      "    fig.canvas.draw()\n",
      "  File \"/nafs/dtward/torch_venv/lib/python3.7/site-packages/matplotlib/backends/backend_agg.py\", line 436, in draw\n",
      "    self.figure.draw(self.renderer)\n",
      "  File \"/nafs/dtward/torch_venv/lib/python3.7/site-packages/matplotlib/artist.py\", line 73, in draw_wrapper\n",
      "    result = draw(artist, renderer, *args, **kwargs)\n",
      "  File \"/nafs/dtward/torch_venv/lib/python3.7/site-packages/matplotlib/artist.py\", line 50, in draw_wrapper\n",
      "    return draw(artist, renderer)\n",
      "  File \"/nafs/dtward/torch_venv/lib/python3.7/site-packages/matplotlib/figure.py\", line 2838, in draw\n",
      "    renderer, self, artists, self.suppressComposite)\n",
      "  File \"/nafs/dtward/torch_venv/lib/python3.7/site-packages/matplotlib/image.py\", line 132, in _draw_list_compositing_images\n",
      "    a.draw(renderer)\n",
      "  File \"/nafs/dtward/torch_venv/lib/python3.7/site-packages/matplotlib/artist.py\", line 50, in draw_wrapper\n",
      "    return draw(artist, renderer)\n",
      "  File \"/nafs/dtward/torch_venv/lib/python3.7/site-packages/matplotlib/axes/_base.py\", line 3092, in draw\n",
      "    renderer, self, artists, self.figure.suppressComposite)\n",
      "  File \"/nafs/dtward/torch_venv/lib/python3.7/site-packages/matplotlib/image.py\", line 132, in _draw_list_compositing_images\n",
      "    a.draw(renderer)\n",
      "  File \"/nafs/dtward/torch_venv/lib/python3.7/site-packages/matplotlib/artist.py\", line 50, in draw_wrapper\n",
      "    return draw(artist, renderer)\n",
      "  File \"/nafs/dtward/torch_venv/lib/python3.7/site-packages/matplotlib/image.py\", line 647, in draw\n",
      "    renderer, renderer.get_image_magnification())\n",
      "  File \"/nafs/dtward/torch_venv/lib/python3.7/site-packages/matplotlib/image.py\", line 957, in make_image\n",
      "    magnification, unsampled=unsampled)\n",
      "  File \"/nafs/dtward/torch_venv/lib/python3.7/site-packages/matplotlib/image.py\", line 564, in _make_image\n",
      "    output = self.to_rgba(output, bytes=True, norm=False)\n",
      "  File \"/nafs/dtward/torch_venv/lib/python3.7/site-packages/matplotlib/cm.py\", line 456, in to_rgba\n",
      "    rgba = self.cmap(x, alpha=alpha, bytes=bytes)\n",
      "  File \"/nafs/dtward/torch_venv/lib/python3.7/site-packages/matplotlib/colors.py\", line 642, in __call__\n",
      "    lut.take(xa, axis=0, mode='clip', out=rgba)\n",
      "KeyboardInterrupt\n"
     ]
    }
   ],
   "source": [
    "input_path = '/home/dtward/bmaproot/panfs/dong/3D_stitched_LS/20220725_SW220510_02_LS/SW220510_02_LS_6x_1000z.ims'\n",
    "\n",
    "image_type = 'ims' # can be ims or Tif\n",
    "\n",
    "outdir = '/home/dtward/bmaproot/nafs/dtward/dong/donglab_resample_lightsheet_good_2022_09_06_tmp'\n",
    "\n",
    "!python downsample.py '/panfs/dong/3D_stitched_LS/20220725_SW220510_02_LS/SW220510_02_LS_6x_1000z.ims' 'ims' '/nafs/dtward/dong/donglab_resample_lightsheet_good_2022_09_06_tmp'"
   ]
  }
 ],
 "metadata": {
  "kernelspec": {
   "display_name": "Python 3 (ipykernel)",
   "language": "python",
   "name": "python3"
  },
  "language_info": {
   "codemirror_mode": {
    "name": "ipython",
    "version": 3
   },
   "file_extension": ".py",
   "mimetype": "text/x-python",
   "name": "python",
   "nbconvert_exporter": "python",
   "pygments_lexer": "ipython3",
   "version": "3.7.4"
  }
 },
 "nbformat": 4,
 "nbformat_minor": 5
}

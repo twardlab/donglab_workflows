{
 "cells": [
  {
   "cell_type": "code",
   "execution_count": 2,
   "id": "7d1eddc8",
   "metadata": {},
   "outputs": [
    {
     "name": "stdout",
     "output_type": "stream",
     "text": [
      "downsample.py:19: DeprecationWarning: the imp module is deprecated in favour of importlib; see the module's documentation for alternative uses\n",
      "  import imp\n",
      "Input path is /panfs/dong/3D_stitched_LS/20220725_SW220510_02_LS/SW220510_02_LS_6x_1000z.ims\n",
      "Output filename is SW220510_02_LS_6x_1000z_ch_0_pow_[0.125]_down.npz\n",
      "Resolution is [1. 1. 1.]\n",
      "Desired resolution is 50.0\n",
      "Dataset string is DataSet/ResolutionLevel 0/TimePoint 0/Channel 0/Data\n",
      "Temp output dir is /nafs/dtward/dong/donglab_resample_lightsheet_good_2022_09_06_tmp\n",
      "Final output dir is /home/dtward/bmaproot/nafs/dtward/dong/final_output\n",
      "Saved - If\n",
      "Finished loading slice 0 of 8448, time 0.1705641746520996 s\n",
      "Saved - If\n",
      "Finished loading slice 1 of 8448, time 0.11082601547241211 s\n",
      "Saved - If\n",
      "Finished loading slice 2 of 8448, time 0.11136221885681152 s\n",
      "Saved - If\n",
      "Finished loading slice 3 of 8448, time 0.11242556571960449 s\n",
      "Saved - If\n",
      "Finished loading slice 4 of 8448, time 0.11246061325073242 s\n",
      "Saved - If\n",
      "Finished loading slice 5 of 8448, time 0.13006901741027832 s\n",
      "Saved - If\n",
      "Finished loading slice 6 of 8448, time 0.11474323272705078 s\n",
      "Saved - If\n",
      "Finished loading slice 7 of 8448, time 0.11488175392150879 s\n",
      "Saved - If\n",
      "Finished loading slice 8 of 8448, time 0.11422514915466309 s\n",
      "Saved - If\n",
      "Finished loading slice 9 of 8448, time 0.1148989200592041 s\n",
      "Saved - If\n",
      "Finished loading slice 10 of 8448, time 0.11246919631958008 s\n",
      "Saved - If\n",
      "Finished loading slice 11 of 8448, time 0.1084134578704834 s\n",
      "Saved - If\n",
      "Finished loading slice 12 of 8448, time 0.11011862754821777 s\n",
      "Saved - If\n",
      "Finished loading slice 13 of 8448, time 0.1079864501953125 s\n",
      "Saved - If\n",
      "Finished loading slice 14 of 8448, time 0.14088106155395508 s\n",
      "Saved - If\n",
      "Finished loading slice 15 of 8448, time 0.10863304138183594 s\n",
      "Saved - If\n",
      "Finished loading slice 16 of 8448, time 0.10763311386108398 s\n",
      "Saved - If\n",
      "Finished loading slice 17 of 8448, time 0.1070554256439209 s\n",
      "Saved - If\n",
      "Finished loading slice 18 of 8448, time 0.10791873931884766 s\n",
      "Saved - If\n",
      "Finished loading slice 19 of 8448, time 0.1074519157409668 s\n",
      "Saved - If\n",
      "Finished loading slice 20 of 8448, time 0.10941743850708008 s\n",
      "Saved - If\n",
      "Finished loading slice 21 of 8448, time 0.10765790939331055 s\n",
      "Saved - If\n",
      "Finished loading slice 22 of 8448, time 0.10863018035888672 s\n",
      "Saved - If\n",
      "Finished loading slice 23 of 8448, time 0.10915875434875488 s\n",
      "Saved - If\n",
      "Finished loading slice 24 of 8448, time 0.10860586166381836 s\n",
      "Saved - If\n",
      "Finished loading slice 25 of 8448, time 0.10756683349609375 s\n",
      "Saved - If\n",
      "Finished loading slice 26 of 8448, time 0.10866236686706543 s\n",
      "Saved - If\n",
      "^C\n",
      "Traceback (most recent call last):\n",
      "  File \"downsample.py\", line 194, in <module>\n",
      "    ax[0].cla()\n",
      "  File \"/nafs/dtward/torch_venv/lib/python3.7/site-packages/matplotlib/axes/_base.py\", line 1200, in cla\n",
      "    spine.clear()\n",
      "  File \"/nafs/dtward/torch_venv/lib/python3.7/site-packages/matplotlib/spines.py\", line 223, in clear\n",
      "    self.axis.clear()\n",
      "  File \"/nafs/dtward/torch_venv/lib/python3.7/site-packages/matplotlib/axis.py\", line 818, in clear\n",
      "    self.reset_ticks()\n",
      "  File \"/nafs/dtward/torch_venv/lib/python3.7/site-packages/matplotlib/axis.py\", line 846, in reset_ticks\n",
      "    self.set_clip_path(self.axes.patch)\n",
      "  File \"/nafs/dtward/torch_venv/lib/python3.7/site-packages/matplotlib/axis.py\", line 936, in set_clip_path\n",
      "    for child in self.majorTicks + self.minorTicks:\n",
      "  File \"/nafs/dtward/torch_venv/lib/python3.7/site-packages/matplotlib/axis.py\", line 592, in __get__\n",
      "    tick = instance._get_tick(major=True)\n",
      "  File \"/nafs/dtward/torch_venv/lib/python3.7/site-packages/matplotlib/axis.py\", line 2057, in _get_tick\n",
      "    return XTick(self.axes, 0, major=major, **tick_kw)\n",
      "  File \"/nafs/dtward/torch_venv/lib/python3.7/site-packages/matplotlib/axis.py\", line 419, in __init__\n",
      "    data=([0], [0]), transform=ax.get_xaxis_transform(\"tick1\"))\n",
      "  File \"/nafs/dtward/torch_venv/lib/python3.7/site-packages/matplotlib/axes/_base.py\", line 857, in get_xaxis_transform\n",
      "    return self.spines.bottom.get_spine_transform()\n",
      "  File \"/nafs/dtward/torch_venv/lib/python3.7/site-packages/matplotlib/spines.py\", line 332, in get_spine_transform\n",
      "    self._ensure_position_is_set()\n",
      "  File \"/nafs/dtward/torch_venv/lib/python3.7/site-packages/matplotlib/spines.py\", line 204, in _ensure_position_is_set\n",
      "    self.set_position(self._position)\n",
      "  File \"/nafs/dtward/torch_venv/lib/python3.7/site-packages/matplotlib/spines.py\", line 322, in set_position\n",
      "    self.axis.reset_ticks()\n",
      "  File \"/nafs/dtward/torch_venv/lib/python3.7/site-packages/matplotlib/axis.py\", line 846, in reset_ticks\n",
      "    self.set_clip_path(self.axes.patch)\n",
      "  File \"/nafs/dtward/torch_venv/lib/python3.7/site-packages/matplotlib/axis.py\", line 936, in set_clip_path\n",
      "    for child in self.majorTicks + self.minorTicks:\n",
      "  File \"/nafs/dtward/torch_venv/lib/python3.7/site-packages/matplotlib/axis.py\", line 592, in __get__\n",
      "    tick = instance._get_tick(major=True)\n",
      "  File \"/nafs/dtward/torch_venv/lib/python3.7/site-packages/matplotlib/axis.py\", line 2057, in _get_tick\n",
      "    return XTick(self.axes, 0, major=major, **tick_kw)\n",
      "  File \"/nafs/dtward/torch_venv/lib/python3.7/site-packages/matplotlib/axis.py\", line 415, in __init__\n",
      "    super().__init__(*args, **kwargs)\n",
      "  File \"/nafs/dtward/torch_venv/lib/python3.7/site-packages/matplotlib/axis.py\", line 175, in __init__\n",
      "    rotation=self._labelrotation[1])\n",
      "  File \"/nafs/dtward/torch_venv/lib/python3.7/site-packages/matplotlib/text.py\", line 145, in __init__\n",
      "    self.set_fontproperties(fontproperties)\n",
      "  File \"/nafs/dtward/torch_venv/lib/python3.7/site-packages/matplotlib/text.py\", line 1262, in set_fontproperties\n",
      "    self._fontproperties = FontProperties._from_any(fp).copy()\n",
      "  File \"/nafs/dtward/torch_venv/lib/python3.7/site-packages/matplotlib/font_manager.py\", line 702, in _from_any\n",
      "    return cls()\n",
      "  File \"/nafs/dtward/torch_venv/lib/python3.7/site-packages/matplotlib/font_manager.py\", line 667, in __init__\n",
      "    self._size = rcParams['font.size']\n",
      "  File \"/nafs/dtward/torch_venv/lib/python3.7/site-packages/matplotlib/__init__.py\", line 653, in __getitem__\n",
      "    def __getitem__(self, key):\n",
      "KeyboardInterrupt\n"
     ]
    }
   ],
   "source": [
    "input_path = '/home/dtward/bmaproot/panfs/dong/3D_stitched_LS/20220725_SW220510_02_LS/SW220510_02_LS_6x_1000z.ims'\n",
    "\n",
    "image_type = 'ims' # can be ims or Tif\n",
    "\n",
    "outdir = '/home/dtward/bmaproot/nafs/dtward/dong/temp_output/SW220510_02_LS_6x_1000z'\n",
    "\n",
    "finalsave = '/home/dtward/bmaproot/nafs/dtward/dong/final_output'\n",
    "\n",
    "!python downsample.py '/panfs/dong/3D_stitched_LS/20220725_SW220510_02_LS/SW220510_02_LS_6x_1000z.ims' 'ims' '/nafs/dtward/dong/donglab_resample_lightsheet_good_2022_09_06_tmp' '/home/dtward/bmaproot/nafs/dtward/dong/final_output'"
   ]
  },
  {
   "cell_type": "code",
   "execution_count": 2,
   "id": "bcac78e8",
   "metadata": {},
   "outputs": [
    {
     "name": "stdout",
     "output_type": "stream",
     "text": [
      "[]\n"
     ]
    }
   ],
   "source": [
    "import os\n",
    "\n",
    "print(os.listdir(r'/nafs/dtward/dong/final_output'))"
   ]
  },
  {
   "cell_type": "code",
   "execution_count": 6,
   "id": "b974fd60",
   "metadata": {},
   "outputs": [],
   "source": [
    "fullName = os.path.join('/nafs/dtward/dong/final_output/','test1.txt')\n",
    "fileT = open(fullName,'w')\n",
    "toFile = \"Some test text\"\n",
    "fileT.write(toFile)\n",
    "fileT.close()"
   ]
  },
  {
   "cell_type": "code",
   "execution_count": 2,
   "id": "5dfe858e",
   "metadata": {},
   "outputs": [
    {
     "name": "stdout",
     "output_type": "stream",
     "text": [
      "Camk2a-MORF3-D1Tom_TME07-1_10x_01\n"
     ]
    }
   ],
   "source": [
    "import os\n",
    "\n",
    "input_path = '/panfs/dong/3D_registration/Yang_MORF_DragonFly/TME07-1_10x/Camk2a-MORF3-D1Tom_TME07-1_10x_01.ims'\n",
    "\n",
    "print(os.path.splitext(os.path.split(input_path)[-1])[0])"
   ]
  },
  {
   "cell_type": "code",
   "execution_count": 3,
   "id": "7fe47cf3",
   "metadata": {},
   "outputs": [
    {
     "data": {
      "text/plain": [
       "['01A', '01B']"
      ]
     },
     "execution_count": 3,
     "metadata": {},
     "output_type": "execute_result"
    }
   ],
   "source": [
    "file_num = ['01A', '01B','02A', '02B','03A', '03B','04A', '04B','05A', '05B','06A', '06B','07A', '07B','08A', '08B','09A', '09B']\n",
    "file_num"
   ]
  }
 ],
 "metadata": {
  "kernelspec": {
   "display_name": "Python 3 (ipykernel)",
   "language": "python",
   "name": "python3"
  },
  "language_info": {
   "codemirror_mode": {
    "name": "ipython",
    "version": 3
   },
   "file_extension": ".py",
   "mimetype": "text/x-python",
   "name": "python",
   "nbconvert_exporter": "python",
   "pygments_lexer": "ipython3",
   "version": "3.7.4"
  }
 },
 "nbformat": 4,
 "nbformat_minor": 5
}
